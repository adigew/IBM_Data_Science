{
 "cells": [
  {
   "cell_type": "markdown",
   "metadata": {},
   "source": [
    "<center>\n",
    "    <img src=\"https://cf-courses-data.s3.us.cloud-object-storage.appdomain.cloud/IBMDeveloperSkillsNetwork-DS0105EN-SkillsNetwork/labs/Module2/images/SN_web_lightmode.png\" width=\"300\" alt=\"cognitiveclass.ai logo\">\n",
    "</center>\n"
   ]
  },
  {
   "cell_type": "markdown",
   "metadata": {},
   "source": [
    "#### Add your code below following the instructions given in the course\n"
   ]
  },
  {
   "cell_type": "markdown",
   "metadata": {},
   "source": [
    "# Data Science Tools and Ecosystem"
   ]
  },
  {
   "cell_type": "markdown",
   "metadata": {},
   "source": [
    "In this notebook, Data Science Tools and Ecosystem are summarized."
   ]
  },
  {
   "cell_type": "markdown",
   "metadata": {},
   "source": [
    "1.Python\n",
    "\n",
    "2.R\n",
    "\n",
    "3.SQL\n",
    "\n",
    "4.Scala\n",
    "\n",
    "5.Java\n",
    "\n",
    "6.C++\n",
    "\n",
    "7.Julia\n",
    "\n",
    "8.JavaScript\n",
    "\n",
    "9.PHP\n",
    "\n",
    "10.Go\n",
    "\n",
    "11.Ruby\n",
    "\n",
    "12.Visual Basic"
   ]
  },
  {
   "cell_type": "markdown",
   "metadata": {},
   "source": [
    "1.Pandas\n",
    "\n",
    "2.Numpy\n",
    "\n",
    "3.Matplotlib\n",
    "\n",
    "4.Seaborn\n",
    "\n",
    "5.Scikit-learn\n",
    "\n",
    "6.Keras\n",
    "\n",
    "7.TensorFlow\n",
    "\n",
    "8.PyTorch\n",
    "\n",
    "9.Apache Spark\n",
    "\n",
    "10.Vegas\n",
    "\n",
    "11.Big DL\n",
    "\n",
    "12.Ggplot2"
   ]
  },
  {
   "cell_type": "markdown",
   "metadata": {},
   "source": [
    "# Data Science Tools"
   ]
  },
  {
   "cell_type": "markdown",
   "metadata": {},
   "source": [
    "Anaconda\n",
    "Jupyter Notebook\n",
    "Spyder \n",
    "R Studio\n",
    "Zeppelin"
   ]
  },
  {
   "cell_type": "markdown",
   "metadata": {},
   "source": [
    "### Below are a few examples of evaluating arithmetic expressions in Python"
   ]
  },
  {
   "cell_type": "code",
   "execution_count": 1,
   "metadata": {},
   "outputs": [
    {
     "data": {
      "text/plain": [
       "2"
      ]
     },
     "execution_count": 1,
     "metadata": {},
     "output_type": "execute_result"
    }
   ],
   "source": [
    "1+1"
   ]
  },
  {
   "cell_type": "code",
   "execution_count": 2,
   "metadata": {},
   "outputs": [
    {
     "data": {
      "text/plain": [
       "81"
      ]
     },
     "execution_count": 2,
     "metadata": {},
     "output_type": "execute_result"
    }
   ],
   "source": [
    "9*9"
   ]
  },
  {
   "cell_type": "code",
   "execution_count": 4,
   "metadata": {},
   "outputs": [
    {
     "name": "stdout",
     "output_type": "stream",
     "text": [
      "seconds value in hours: 2\n",
      "seconds value in minutes: 46\n",
      "Time in preferred format :- 02:46:40\n"
     ]
    }
   ],
   "source": [
    "def convert(sec):\n",
    "   sec = sec % (24 * 3600)\n",
    "   hour = sec // 3600\n",
    "   sec %= 3600\n",
    "   min = sec // 60\n",
    "   sec %= 60\n",
    "   print(\"seconds value in hours:\",hour)\n",
    "   print(\"seconds value in minutes:\",min)\n",
    "   return \"%02d:%02d:%02d\" % (hour, min, sec) \n",
    "\n",
    "n = 10000\n",
    "print(\"Time in preferred format :-\",convert(n))"
   ]
  },
  {
   "cell_type": "markdown",
   "metadata": {},
   "source": [
    "Objectives:\n",
    "    Add comments to code cell\n",
    "    Create markdown cells\n",
    "    Add ordered and unordered lists to markdown cells\n",
    "    Format content of markdown cells with heading styles"
   ]
  },
  {
   "cell_type": "markdown",
   "metadata": {},
   "source": [
    "### AUTHOR(s)\n",
    "\n",
    "Nesil Bor\n"
   ]
  },
  {
   "cell_type": "code",
   "execution_count": null,
   "metadata": {},
   "outputs": [],
   "source": []
  }
 ],
 "metadata": {
  "kernelspec": {
   "display_name": "Python",
   "language": "python",
   "name": "conda-env-python-py"
  },
  "language_info": {
   "codemirror_mode": {
    "name": "ipython",
    "version": 3
   },
   "file_extension": ".py",
   "mimetype": "text/x-python",
   "name": "python",
   "nbconvert_exporter": "python",
   "pygments_lexer": "ipython3",
   "version": "3.7.12"
  }
 },
 "nbformat": 4,
 "nbformat_minor": 4
}
